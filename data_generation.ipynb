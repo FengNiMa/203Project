{
 "cells": [
  {
   "cell_type": "code",
   "execution_count": null,
   "metadata": {},
   "outputs": [],
   "source": [
    "import numpy as np\n",
    "import matplotlib.pyplot as plt\n",
    "import math"
   ]
  },
  {
   "cell_type": "code",
   "execution_count": null,
   "metadata": {},
   "outputs": [],
   "source": [
    "# def MoG_generation(K=5):\n",
    "#     data_dim = 2\n",
    "#     # data_range = 6.0\n",
    "#     pi_logits = np.random.sample(K)\n",
    "#     pi = pi_logits / np.sum(pi_logits)\n",
    "\n",
    "#     mu_list = [(1.0, 1.0), (1.0, 5.0), (3.0, 3.0), (5.0, 1.0), (5.0, 5.0)]\n",
    "#     mu = np.array(mu_list)\n",
    "    \n",
    "#     adv_l = [(1.0, 3.0), (3.0, 1.0), (3.0, 5.0), (5.0, 3.0)]\n",
    "#     adv_sample = np.array(adv_l)  \n",
    "#     return pi, mu, adv_sample\n",
    "\n",
    "def MoG_generation(K=5):\n",
    "    samples_list = []\n",
    "\n",
    "    while len(samples_list) < 1000:\n",
    "        normal_sample = np.random.randn(data_dim)\n",
    "        cls = np.random.randint(K)\n",
    "        sample = normal_sample + true_mu[cls]\n",
    "        if -.5 < sample[0] < 6.5 and -.5 < sample[1] < 6.5:\n",
    "            samples_list.append(sample)\n",
    "    samples = np.array(samples_list)\n",
    "    adv_sample = [(0, 3), (3, 0), (3, 6), (6, 3)]\n",
    "    \n",
    "\n",
    "def MoG_prob(x, pi, mu, cov=None):\n",
    "    K, dim = mu.shape\n",
    "    if cov is None:\n",
    "        cov = np.tile(np.eye(dim), (K, 1, 1))\n",
    "    assert x.shape == (dim,)\n",
    "    assert pi.shape == (K,)\n",
    "    assert cov.shape == (K, dim, dim)\n",
    "    prob = 0.0\n",
    "    for k in range(K):\n",
    "        s, logdet = np.linalg.slogdet(cov[k] + np.eye(dim) * 1e-3)\n",
    "        # print(s, np.exp(logdet))\n",
    "        assert s > 0\n",
    "        log_prob_k = -dim * 0.5 * math.log(2 * math.pi) - 0.5 * logdet - 0.5 * (x - mu[k]).dot(x - mu[k])\n",
    "        prob += np.exp(log_prob_k) * pi[k]\n",
    "    return prob\n",
    "\n",
    "def MoG_plot(pi, mu, cov=None):\n",
    "    plt.figure(figsize=(5, 5))\n",
    "    \n",
    "    x1 = np.linspace(-2.0, 8.0, 101)\n",
    "    x2 = np.linspace(-2.0, 8.0, 101)\n",
    "    p_lists = []\n",
    "    for _x2 in x2:\n",
    "        p = []\n",
    "        for _x1 in x1:\n",
    "            p.append(MoG_prob(np.array((_x1, _x2)), pi, mu, cov) )\n",
    "        p_lists.append(p)\n",
    "    P = np.array(p_lists)\n",
    "    \n",
    "    plt.imshow(P, origin='lower', interpolation='bilinear')\n",
    "    plt.xticks(np.linspace(0, 100, 6), np.linspace(-2, 8, 6))\n",
    "    plt.yticks(np.linspace(0, 100, 6), np.linspace(-2, 8, 6))\n",
    "\n",
    "def Data_plot(samples, adv_sample):\n",
    "    plt.figure(figsize=(5, 5))\n",
    "\n",
    "    x1 = [x[0] for x in samples]\n",
    "    x2 = [x[1] for x in samples]\n",
    "    plt.scatter(x1, x2, s=5, marker='o')\n",
    "    \n",
    "    x1 = [x[0] for x in adv_sample]\n",
    "    x2 = [x[1] for x in adv_sample]\n",
    "    plt.scatter(x1, x2, s=10, marker='X')\n",
    "    \n",
    "    plt.xlim(-2, 8)\n",
    "    plt.ylim(-2, 8)"
   ]
  },
  {
   "cell_type": "code",
   "execution_count": null,
   "metadata": {
    "scrolled": true
   },
   "outputs": [],
   "source": [
    "pi, mu, adv_sample = MoG_generation()"
   ]
  },
  {
   "cell_type": "code",
   "execution_count": null,
   "metadata": {},
   "outputs": [],
   "source": [
    "pi"
   ]
  },
  {
   "cell_type": "code",
   "execution_count": null,
   "metadata": {
    "scrolled": false
   },
   "outputs": [],
   "source": [
    "mu"
   ]
  },
  {
   "cell_type": "code",
   "execution_count": null,
   "metadata": {},
   "outputs": [],
   "source": [
    "MoG_plot(np.array([0.2]*5), mu)\n",
    "plt.savefig('figures/MoG-plot.png')\n",
    "plt.show()"
   ]
  },
  {
   "cell_type": "code",
   "execution_count": null,
   "metadata": {},
   "outputs": [],
   "source": [
    "samples = sample_from_MoG(pi, mu)"
   ]
  },
  {
   "cell_type": "code",
   "execution_count": null,
   "metadata": {
    "scrolled": true
   },
   "outputs": [],
   "source": [
    "samples[:30]"
   ]
  },
  {
   "cell_type": "code",
   "execution_count": null,
   "metadata": {},
   "outputs": [],
   "source": [
    "adv_sample"
   ]
  },
  {
   "cell_type": "code",
   "execution_count": null,
   "metadata": {
    "scrolled": true
   },
   "outputs": [],
   "source": [
    "Data_plot(samples, adv_sample)\n",
    "plt.savefig('Dataset.png')\n",
    "plt.show()"
   ]
  },
  {
   "cell_type": "code",
   "execution_count": null,
   "metadata": {},
   "outputs": [],
   "source": [
    "data_fname = 'data_multi_adv.npz'\n",
    "load_data = np.load(data_fname)\n",
    "true_pi = load_data['pi']\n",
    "true_mu = load_data['mu']\n",
    "samples_100 = load_data['samples']\n",
    "adv_sample = load_data['adv_sample']"
   ]
  },
  {
   "cell_type": "code",
   "execution_count": null,
   "metadata": {},
   "outputs": [],
   "source": [
    "MoG_plot(true_pi,true_mu)"
   ]
  },
  {
   "cell_type": "code",
   "execution_count": null,
   "metadata": {},
   "outputs": [],
   "source": [
    "len(samples)"
   ]
  },
  {
   "cell_type": "code",
   "execution_count": null,
   "metadata": {},
   "outputs": [],
   "source": [
    "K=5\n",
    "data_dim=2\n",
    "data_range=6.0\n",
    "data_n=100\n",
    "samples_list = []\n",
    "\n",
    "while len(samples_list) < 1000:\n",
    "    normal_sample = np.random.randn(data_dim)\n",
    "    cls = np.random.randint(K)\n",
    "    sample = normal_sample + true_mu[cls]\n",
    "    if -.5 < sample[0] < 6.5 and -.5 < sample[1] < 6.5:\n",
    "        samples_list.append(sample)\n",
    "samples = np.array(samples_list)"
   ]
  },
  {
   "cell_type": "code",
   "execution_count": null,
   "metadata": {},
   "outputs": [],
   "source": [
    "Data_plot(samples_100, adv_sample)\n",
    "plt.savefig('figures/Dataset-100.png')\n",
    "plt.show()"
   ]
  },
  {
   "cell_type": "code",
   "execution_count": null,
   "metadata": {},
   "outputs": [],
   "source": [
    "adv_sample= [(0, 3), (3, 0), (3, 6), (6, 3)]"
   ]
  },
  {
   "cell_type": "code",
   "execution_count": null,
   "metadata": {},
   "outputs": [],
   "source": [
    "Data_plot(samples, adv_sample)\n",
    "plt.savefig('figures/Dataset-1000.png')\n",
    "plt.show()"
   ]
  },
  {
   "cell_type": "code",
   "execution_count": null,
   "metadata": {},
   "outputs": [],
   "source": [
    "data_fname = 'datasets/multi-adv-0/data_multi_adv_1000.npz'\n",
    "np.savez(data_fname, pi=pi, mu=mu, samples=samples, adv_sample=adv_sample)"
   ]
  },
  {
   "cell_type": "code",
   "execution_count": null,
   "metadata": {},
   "outputs": [],
   "source": [
    "from sklearn.mixture import GaussianMixture\n",
    "\n",
    "gmm = GaussianMixture(n_components=2) \n",
    "\n",
    "gmm.weights_ = pi\n",
    "gmm.means_ = mu\n",
    "gmm.covariances_ = np.array([np.eye(2)] * 5)"
   ]
  }
 ],
 "metadata": {
  "kernelspec": {
   "display_name": "Python 3",
   "language": "python",
   "name": "python3"
  },
  "language_info": {
   "codemirror_mode": {
    "name": "ipython",
    "version": 3
   },
   "file_extension": ".py",
   "mimetype": "text/x-python",
   "name": "python",
   "nbconvert_exporter": "python",
   "pygments_lexer": "ipython3",
   "version": "3.5.0"
  }
 },
 "nbformat": 4,
 "nbformat_minor": 2
}
