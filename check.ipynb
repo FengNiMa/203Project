{
 "cells": [
  {
   "cell_type": "code",
   "execution_count": 5,
   "metadata": {},
   "outputs": [],
   "source": [
    "import numpy as np\n",
    "from collections import OrderedDict\n",
    "import matplotlib.pyplot as plt"
   ]
  },
  {
   "cell_type": "code",
   "execution_count": 3,
   "metadata": {},
   "outputs": [],
   "source": [
    "def Data_plot(samples, adv_sample):\n",
    "    plt.figure(figsize=(5, 5))\n",
    "\n",
    "    x1 = [x[0] for x in samples]\n",
    "    x2 = [x[1] for x in samples]\n",
    "    plt.scatter(x1, x2, s=5, marker='o')\n",
    "    \n",
    "    x1 = [x[0] for x in adv_sample]\n",
    "    x2 = [x[1] for x in adv_sample]\n",
    "    plt.scatter(x1, x2, s=10, marker='X')\n",
    "    \n",
    "    plt.xlim(-2, 8)\n",
    "    plt.ylim(-2, 8)"
   ]
  },
  {
   "cell_type": "code",
   "execution_count": 5,
   "metadata": {},
   "outputs": [],
   "source": [
    "res = np.load('results/result-adv-gd-K=5-lam=1.0-id=1.npz')"
   ]
  },
  {
   "cell_type": "code",
   "execution_count": 7,
   "metadata": {},
   "outputs": [
    {
     "data": {
      "text/plain": [
       "array([[ 0.02695696,  0.3892387 ],\n",
       "       [-0.9821752 ,  0.5880099 ],\n",
       "       [ 2.0936265 ,  2.367144  ],\n",
       "       [-1.7250005 , -0.6260999 ],\n",
       "       [ 0.14382298,  0.31137154]], dtype=float32)"
      ]
     },
     "execution_count": 7,
     "metadata": {},
     "output_type": "execute_result"
    }
   ],
   "source": [
    "dict(res)['mu']"
   ]
  },
  {
   "cell_type": "code",
   "execution_count": 11,
   "metadata": {},
   "outputs": [
    {
     "data": {
      "text/plain": [
       "array([0.05940462, 0.00242822, 0.9332864 , 0.00159   , 0.00329076],\n",
       "      dtype=float32)"
      ]
     },
     "execution_count": 11,
     "metadata": {},
     "output_type": "execute_result"
    }
   ],
   "source": [
    "dict(res)['pi']"
   ]
  },
  {
   "cell_type": "code",
   "execution_count": 12,
   "metadata": {},
   "outputs": [
    {
     "data": {
      "text/plain": [
       "array([[[ 0.33817983, -0.60115767],\n",
       "        [-0.60115767,  1.2504479 ]],\n",
       "\n",
       "       [[ 1.8434855 ,  0.2858621 ],\n",
       "        [ 0.2858621 ,  0.04432755]],\n",
       "\n",
       "       [[ 1.5729421 , -0.70187074],\n",
       "        [-0.70187074,  2.59194   ]],\n",
       "\n",
       "       [[ 2.116781  ,  0.5681834 ],\n",
       "        [ 0.5681834 ,  1.6204158 ]],\n",
       "\n",
       "       [[ 1.5867405 , -0.9584579 ],\n",
       "        [-0.9584579 ,  1.2351351 ]]], dtype=float32)"
      ]
     },
     "execution_count": 12,
     "metadata": {},
     "output_type": "execute_result"
    }
   ],
   "source": [
    "dict(res)['cov']"
   ]
  },
  {
   "cell_type": "code",
   "execution_count": 8,
   "metadata": {},
   "outputs": [
    {
     "data": {
      "text/plain": [
       "dict_keys(['pi', 'mu', 'train_d_losses', 'cov', 'test_p_losses', 'test_d_losses', 'train_p_losses'])"
      ]
     },
     "execution_count": 8,
     "metadata": {},
     "output_type": "execute_result"
    }
   ],
   "source": [
    "dict(res).keys()"
   ]
  },
  {
   "cell_type": "code",
   "execution_count": 10,
   "metadata": {},
   "outputs": [
    {
     "data": {
      "text/plain": [
       "[0.053652286529541016,\n",
       " 0.001096487045288086,\n",
       " 0.0005145072937011719,\n",
       " 0.0005948543548583984,\n",
       " 0.0003724098205566406,\n",
       " 0.0002613067626953125,\n",
       " 0.0002028942108154297,\n",
       " 0.00015974044799804688]"
      ]
     },
     "execution_count": 10,
     "metadata": {},
     "output_type": "execute_result"
    }
   ],
   "source": [
    "train_p_losses = res['train_p_losses']\n",
    "train_d_losses = res['train_d_losses']\n",
    "train_a_losses = [td - tp for td, tp in zip(train_d_losses, train_p_losses)]\n",
    "train_a_losses[::100]"
   ]
  },
  {
   "cell_type": "code",
   "execution_count": 8,
   "metadata": {},
   "outputs": [
    {
     "data": {
      "text/plain": [
       "{'a': 1, 'b': 2}"
      ]
     },
     "execution_count": 8,
     "metadata": {},
     "output_type": "execute_result"
    }
   ],
   "source": [
    "dict(d)"
   ]
  },
  {
   "cell_type": "code",
   "execution_count": 2,
   "metadata": {},
   "outputs": [
    {
     "data": {
      "text/plain": [
       "dict_keys(['mu', 'pi', 'adv_sample', 'samples'])"
      ]
     },
     "execution_count": 2,
     "metadata": {},
     "output_type": "execute_result"
    }
   ],
   "source": [
    "data = np.load('data_multi_adv.npz')\n",
    "dict(data).keys()"
   ]
  },
  {
   "cell_type": "code",
   "execution_count": 6,
   "metadata": {},
   "outputs": [
    {
     "data": {
      "image/png": "[encoded data removed]",
      "text/plain": [
       "<Figure size 360x360 with 1 Axes>"
      ]
     },
     "metadata": {
      "needs_background": "light"
     },
     "output_type": "display_data"
    }
   ],
   "source": [
    "Data_plot(data['samples'], data['adv_sample'])"
   ]
  },
  {
   "cell_type": "code",
   "execution_count": 7,
   "metadata": {},
   "outputs": [
    {
     "data": {
      "text/plain": [
       "100"
      ]
     },
     "execution_count": 7,
     "metadata": {},
     "output_type": "execute_result"
    }
   ],
   "source": [
    "len(data['samples'])"
   ]
  },
  {
   "cell_type": "code",
   "execution_count": null,
   "metadata": {},
   "outputs": [],
   "source": []
  }
 ],
 "metadata": {
  "kernelspec": {
   "display_name": "Python 3",
   "language": "python",
   "name": "python3"
  },
  "language_info": {
   "codemirror_mode": {
    "name": "ipython",
    "version": 3
   },
   "file_extension": ".py",
   "mimetype": "text/x-python",
   "name": "python",
   "nbconvert_exporter": "python",
   "pygments_lexer": "ipython3",
   "version": "3.5.0"
  }
 },
 "nbformat": 4,
 "nbformat_minor": 2
}
