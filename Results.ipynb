{
 "cells": [
  {
   "cell_type": "code",
   "execution_count": null,
   "metadata": {},
   "outputs": [],
   "source": [
    "import numpy as np\n",
    "import seaborn as sns\n",
    "import matplotlib.pyplot as plt\n",
    "import os, sys, time, pickle, math\n",
    "import scipy\n",
    "\n",
    "%matplotlib inline"
   ]
  },
  {
   "cell_type": "code",
   "execution_count": null,
   "metadata": {},
   "outputs": [],
   "source": [
    "def import_result_penalizedEM(fname):\n",
    "    with open(fname, \"rb\") as p:\n",
    "        res1 = pickle.load(p)\n",
    "    pi = [r[\"pi\"] for r in res1]\n",
    "    mu = [r[\"mu\"] for r in res1]\n",
    "    cov = [r[\"cov\"] for r in res1]\n",
    "    p_loss = [r[\"p_loss\"] for r in res1]\n",
    "    d_loss = [r[\"d_loss\"] for r in res1]\n",
    "    iters = [r[\"iters\"] for r in res1]\n",
    "    time = [r[\"time\"] for r in res1]\n",
    "    return pi, mu, cov, p_loss, d_loss, iters, time\n",
    "\n",
    "def import_result_EM(fname):\n",
    "    with open(fname, \"rb\") as p:\n",
    "        res1 = pickle.load(p)\n",
    "    pi = [r[\"pi\"] for r in res1]\n",
    "    mu = [r[\"mu\"] for r in res1]\n",
    "    conv = [r[\"conv\"] for r in res1]\n",
    "    loss = [r[\"loss\"] for r in res1]\n",
    "    iters = [r[\"iters\"] for r in res1]\n",
    "    time = [r[\"time\"] for r in res1]\n",
    "    init_guess = [r[\"init_guess\"] for r in res1]\n",
    "    return pi, mu, conv, loss, iters, time, init_guess\n",
    "\n",
    "def import_result_GD(fname):\n",
    "    res = np.load(fname)\n",
    "    pi = res[\"pi\"]\n",
    "    mu = res[\"mu\"]\n",
    "    cov = res[\"cov\"]\n",
    "    p_loss = res[\"train_p_losses\"]\n",
    "    d_loss = res[\"train_d_losses\"]\n",
    "    return pi, mu, cov, p_loss, d_loss"
   ]
  },
  {
   "cell_type": "code",
   "execution_count": null,
   "metadata": {},
   "outputs": [],
   "source": [
    "def MoG_prob(x, pi, mu, cov=None):\n",
    "    K, dim = mu.shape\n",
    "    if cov is None:\n",
    "        cov = np.tile(np.eye(dim), (K, 1, 1))\n",
    "    assert x.shape == (dim,)\n",
    "    assert pi.shape == (K,)\n",
    "    assert cov.shape == (K, dim, dim)\n",
    "    prob = 0.0\n",
    "    for k in range(K):\n",
    "        s, logdet = np.linalg.slogdet(cov[k] + np.eye(dim) * 1e-3)\n",
    "        # print(s, np.exp(logdet))\n",
    "        assert s > 0\n",
    "        log_prob_k = -dim * 0.5 * math.log(2 * math.pi) - 0.5 * logdet - 0.5 * (x - mu[k]).dot(x - mu[k])\n",
    "        prob += np.exp(log_prob_k) * pi[k]\n",
    "    return prob\n",
    "\n",
    "def MoG_plot(pi, mu, cov=None):\n",
    "    plt.figure(figsize=(5, 5))\n",
    "    \n",
    "    x1 = np.linspace(-2.0, 8.0, 101)\n",
    "    x2 = np.linspace(-2.0, 8.0, 101)\n",
    "    p_lists = []\n",
    "    for _x2 in x2:\n",
    "        p = []\n",
    "        for _x1 in x1:\n",
    "            p.append(MoG_prob(np.array((_x1, _x2)), pi, mu, cov) )\n",
    "        p_lists.append(p)\n",
    "    P = np.array(p_lists)\n",
    "    \n",
    "    plt.imshow(P, origin='lower', interpolation='bilinear')\n",
    "    plt.xticks(np.linspace(0, 100, 6), np.linspace(-2, 8, 6))\n",
    "    plt.yticks(np.linspace(0, 100, 6), np.linspace(-2, 8, 6))\n",
    "\n",
    "def calc_KL(P, Q, x1_linspace, x2_linspace=None):\n",
    "    # KL(P, Q)\n",
    "    if x2_linspace is None:\n",
    "        x2_linspace = x1_linspace\n",
    "        \n",
    "    points = [np.array((x1, x2)) for x2 in x2_linspace for x1 in x1_linspace]\n",
    "    P_probs = [P(x) for x in points]\n",
    "    Q_probs = [Q(x) for x in points]\n",
    "    KL = scipy.stats.entropy(P_probs, Q_probs)\n",
    "    return KL"
   ]
  },
  {
   "cell_type": "markdown",
   "metadata": {},
   "source": [
    "## Temp experiments"
   ]
  },
  {
   "cell_type": "code",
   "execution_count": null,
   "metadata": {},
   "outputs": [],
   "source": [
    "pi, mu, cov, p_loss, d_loss, iters, time = import_result_penalizedEM(\"results/multi-adv-0/EM/Penalized-K=10-lam=10.0-N=1000.p\")"
   ]
  },
  {
   "cell_type": "code",
   "execution_count": null,
   "metadata": {},
   "outputs": [],
   "source": [
    "mu[0]"
   ]
  },
  {
   "cell_type": "code",
   "execution_count": null,
   "metadata": {},
   "outputs": [],
   "source": [
    "pi[0]"
   ]
  },
  {
   "cell_type": "code",
   "execution_count": null,
   "metadata": {},
   "outputs": [],
   "source": [
    "cov[0]"
   ]
  },
  {
   "cell_type": "code",
   "execution_count": null,
   "metadata": {},
   "outputs": [],
   "source": [
    "print(MoG_prob(np.array((1, 3)), pi[0], mu[0], cov[0]))\n",
    "print(MoG_prob(np.array((3, 1)), pi[0], mu[0], cov[0]))\n",
    "print(MoG_prob(np.array((3, 5)), pi[0], mu[0], cov[0]))\n",
    "print(MoG_prob(np.array((5, 3)), pi[0], mu[0], cov[0]))\n",
    "# print(MoG_prob(np.array((5, 5)), pi[0], mu[0], cov[0]))"
   ]
  },
  {
   "cell_type": "code",
   "execution_count": null,
   "metadata": {},
   "outputs": [],
   "source": [
    "plt.style.use('default')\n",
    "MoG_plot(pi[0], mu[0], cov[0])"
   ]
  },
  {
   "cell_type": "code",
   "execution_count": null,
   "metadata": {},
   "outputs": [],
   "source": [
    "time"
   ]
  },
  {
   "cell_type": "markdown",
   "metadata": {},
   "source": [
    "## Losses"
   ]
  },
  {
   "cell_type": "code",
   "execution_count": null,
   "metadata": {},
   "outputs": [],
   "source": [
    "pi, mu, cov, p_loss, d_loss, iters, time = import_result_penalizedEM(\"results/multi-adv-0/EM/Penalized-K=10-lam=10.0-N=1000.p\")"
   ]
  },
  {
   "cell_type": "code",
   "execution_count": null,
   "metadata": {
    "scrolled": false
   },
   "outputs": [],
   "source": [
    "plt.style.use('seaborn-whitegrid')\n",
    "fig = plt.figure()\n",
    "ax = plt.axes()\n",
    "\n",
    "plt.title(\"Loss\")\n",
    "plt.xlabel(\"EM Iteration\")\n",
    "plt.ylabel(\"loss\");\n",
    "x = np.linspace(0, 199, 200)\n",
    "for loss in d_loss:\n",
    "    ax.plot(x[:len(loss)-1], loss[1:])"
   ]
  },
  {
   "cell_type": "code",
   "execution_count": null,
   "metadata": {},
   "outputs": [],
   "source": [
    "fig = plt.figure()\n",
    "ax = plt.axes()\n",
    "\n",
    "plt.ylim(-1, 15);\n",
    "plt.title(\"Inner Loop iterations\")\n",
    "plt.xlabel(\"EM Iteration\")\n",
    "plt.ylabel(\"# of normalization iteration\");\n",
    "x = np.linspace(0, 199, 200)\n",
    "for i in iters:\n",
    "    ax.plot(x[:len(i)], i)"
   ]
  },
  {
   "cell_type": "markdown",
   "metadata": {},
   "source": [
    "## True Distribution"
   ]
  },
  {
   "cell_type": "code",
   "execution_count": null,
   "metadata": {
    "scrolled": true
   },
   "outputs": [],
   "source": [
    "data_fname = 'datasets/multi-adv-0/data_multi_adv.npz'\n",
    "load_data = np.load(data_fname)\n",
    "# true_pi = load_data['pi']\n",
    "true_pi = np.ones(5) / 5.0\n",
    "true_mu = load_data['mu']\n",
    "samples = load_data['samples']\n",
    "adv_sample = load_data['adv_sample']"
   ]
  },
  {
   "cell_type": "code",
   "execution_count": null,
   "metadata": {},
   "outputs": [],
   "source": [
    "true_pi"
   ]
  },
  {
   "cell_type": "code",
   "execution_count": null,
   "metadata": {},
   "outputs": [],
   "source": [
    "true_mu"
   ]
  },
  {
   "cell_type": "code",
   "execution_count": null,
   "metadata": {},
   "outputs": [],
   "source": [
    "print(MoG_prob(np.array((1, 3)), true_pi, true_mu))\n",
    "print(MoG_prob(np.array((3, 1)), true_pi, true_mu))\n",
    "print(MoG_prob(np.array((3, 5)), true_pi, true_mu))\n",
    "print(MoG_prob(np.array((5, 3)), true_pi, true_mu))\n",
    "# print(MoG_prob(np.array((5, 5)), true_pi, true_mu))"
   ]
  },
  {
   "cell_type": "code",
   "execution_count": null,
   "metadata": {
    "scrolled": true
   },
   "outputs": [],
   "source": [
    "plt.style.use('default')\n",
    "MoG_plot(true_pi, true_mu)"
   ]
  },
  {
   "cell_type": "markdown",
   "metadata": {},
   "source": [
    "## Pen-EM Results"
   ]
  },
  {
   "cell_type": "code",
   "execution_count": null,
   "metadata": {},
   "outputs": [],
   "source": [
    "#K=5-lam=0.1\n",
    "pi, mu, cov, p_loss, d_loss, iters, time = import_result_penalizedEM(\"results/multi-adv-0/EM/Penalized-K=10-lam=10.0-N=1000.p\")\n",
    "pi"
   ]
  },
  {
   "cell_type": "code",
   "execution_count": null,
   "metadata": {},
   "outputs": [],
   "source": [
    "plt.style.use('seaborn-whitegrid')\n",
    "fig = plt.figure()\n",
    "ax = plt.axes()\n",
    "\n",
    "plt.title(\"Loss\")\n",
    "plt.xlabel(\"EM Iteration\")\n",
    "plt.ylabel(\"loss\");\n",
    "x = np.linspace(0, 200, 200)\n",
    "for loss in d_loss:\n",
    "    ax.plot(x[:len(loss)-1], loss[1:])"
   ]
  },
  {
   "cell_type": "code",
   "execution_count": null,
   "metadata": {},
   "outputs": [],
   "source": [
    "fig = plt.figure()\n",
    "ax = plt.axes()\n",
    "\n",
    "plt.ylim(-1, 15);\n",
    "plt.title(\"Inner Loop iterations\")\n",
    "plt.xlabel(\"EM Iteration\")\n",
    "plt.ylabel(\"# of normalization iteration\");\n",
    "x = np.linspace(0, 199, 200)\n",
    "for i in iters:\n",
    "    ax.plot(x[:len(i)], i)"
   ]
  },
  {
   "cell_type": "code",
   "execution_count": null,
   "metadata": {},
   "outputs": [],
   "source": [
    "plt.style.use('default')\n",
    "for i in range(len(pi)):\n",
    "    MoG_plot(pi[i], mu[i], cov[i])"
   ]
  },
  {
   "cell_type": "code",
   "execution_count": null,
   "metadata": {
    "scrolled": true
   },
   "outputs": [],
   "source": [
    "_i = 1\n",
    "MoG_plot(pi[_i], mu[_i], cov[_i])\n",
    "# plt.savefig('Penalized-K=10-lam=1.0-N=100.png')"
   ]
  },
  {
   "cell_type": "code",
   "execution_count": null,
   "metadata": {},
   "outputs": [],
   "source": [
    "_i = 0\n",
    "print(MoG_prob(np.array((1, 3)), pi[_i], mu[_i], cov[_i]))\n",
    "print(MoG_prob(np.array((3, 1)), pi[_i], mu[_i], cov[_i]))\n",
    "print(MoG_prob(np.array((3, 5)), pi[_i], mu[_i], cov[_i]))\n",
    "print(MoG_prob(np.array((5, 3)), pi[_i], mu[_i], cov[_i]))"
   ]
  },
  {
   "cell_type": "markdown",
   "metadata": {},
   "source": [
    "## Original EM Results"
   ]
  },
  {
   "cell_type": "code",
   "execution_count": null,
   "metadata": {},
   "outputs": [],
   "source": [
    "pi, mu, cov, loss, iters, time, init_guess = import_result_EM(\"results/multi-adv-0/EM/EM-K=10-lam=10.0-N=1000.p\")\n",
    "pi"
   ]
  },
  {
   "cell_type": "code",
   "execution_count": null,
   "metadata": {},
   "outputs": [],
   "source": [
    "plt.style.use('default')\n",
    "for i in range(len(pi)):\n",
    "    MoG_plot(pi[i], mu[i], cov[i])"
   ]
  },
  {
   "cell_type": "code",
   "execution_count": null,
   "metadata": {},
   "outputs": [],
   "source": [
    "_i = 0\n",
    "MoG_plot(pi[_i], mu[_i], cov[_i])\n",
    "# plt.savefig('EM-K=5-lam=1.0-N=100.png')"
   ]
  },
  {
   "cell_type": "code",
   "execution_count": null,
   "metadata": {},
   "outputs": [],
   "source": [
    "_i = 0\n",
    "print(MoG_prob(np.array((1, 3)), pi[_i], mu[_i], cov[_i]))\n",
    "print(MoG_prob(np.array((3, 1)), pi[_i], mu[_i], cov[_i]))\n",
    "print(MoG_prob(np.array((3, 5)), pi[_i], mu[_i], cov[_i]))\n",
    "print(MoG_prob(np.array((5, 3)), pi[_i], mu[_i], cov[_i]))"
   ]
  },
  {
   "cell_type": "markdown",
   "metadata": {},
   "source": [
    "## GD Results"
   ]
  },
  {
   "cell_type": "code",
   "execution_count": null,
   "metadata": {},
   "outputs": [],
   "source": [
    "pi, mu, cov, p_loss, d_loss = import_result_GD(\"results/multi-adv-0/GD/result-adv-adam-K=10-lam=0.1-id=1.npz\")\n",
    "# plt.style.use('default')\n",
    "# MoG_plot(pi, mu, cov)"
   ]
  },
  {
   "cell_type": "code",
   "execution_count": null,
   "metadata": {},
   "outputs": [],
   "source": [
    "pi"
   ]
  },
  {
   "cell_type": "code",
   "execution_count": null,
   "metadata": {},
   "outputs": [],
   "source": [
    "mu"
   ]
  },
  {
   "cell_type": "code",
   "execution_count": null,
   "metadata": {},
   "outputs": [],
   "source": [
    "cov"
   ]
  },
  {
   "cell_type": "code",
   "execution_count": null,
   "metadata": {},
   "outputs": [],
   "source": [
    "# print(MoG_prob(np.array((1, 1)), pi, mu, cov))\n",
    "print(MoG_prob(np.array((1, 3)), pi, mu, cov))\n",
    "print(MoG_prob(np.array((3, 1)), pi, mu, cov))\n",
    "print(MoG_prob(np.array((3, 5)), pi, mu, cov))\n",
    "print(MoG_prob(np.array((5, 3)), pi, mu, cov))"
   ]
  },
  {
   "cell_type": "code",
   "execution_count": null,
   "metadata": {},
   "outputs": [],
   "source": [
    "MoG_plot(pi, mu, cov)\n",
    "# plt.savefig('GD-K=10-lam=1.0-N=100.png')"
   ]
  },
  {
   "cell_type": "markdown",
   "metadata": {},
   "source": [
    "## KL calculation"
   ]
  },
  {
   "cell_type": "code",
   "execution_count": null,
   "metadata": {},
   "outputs": [],
   "source": [
    "pi_GD, mu_GD, cov_GD, _, _ = import_result_GD(\"results/multi-adv-0/GD/result-adv-adam-K=10-lam=0.1-id=1.npz\")\n",
    "pi_EM, mu_EM, cov_EM, _, _, _, _ = import_result_penalizedEM(\"results/multi-adv-0/EM/Penalized-K=10-lam=0.1-N=100.p\")\n",
    "\n",
    "True_P = lambda x : MoG_prob(x, true_pi, true_mu)\n",
    "GD_P = lambda x : MoG_prob(x, pi_GD, mu_GD, cov_GD)\n",
    "EM_P = lambda x : MoG_prob(x, pi_EM[0], mu_EM[0], cov_EM[0])\n",
    "\n",
    "print(True_P(np.array((3, 3))))\n",
    "print(GD_P(np.array((3, 3))))\n",
    "print(EM_P(np.array((3, 3))))"
   ]
  },
  {
   "cell_type": "code",
   "execution_count": null,
   "metadata": {},
   "outputs": [],
   "source": [
    "print(calc_KL(GD_P, True_P, np.linspace(-2, 8, 101)))\n",
    "print(calc_KL(EM_P, True_P, np.linspace(-2, 8, 101)))"
   ]
  },
  {
   "cell_type": "code",
   "execution_count": null,
   "metadata": {},
   "outputs": [],
   "source": [
    "# correct KL: P = true, Q = estimation\n",
    "print(calc_KL(True_P, GD_P, np.linspace(-2, 8, 101)))\n",
    "print(calc_KL(True_P, EM_P, np.linspace(-2, 8, 101)))"
   ]
  },
  {
   "cell_type": "code",
   "execution_count": null,
   "metadata": {},
   "outputs": [],
   "source": [
    "plt.style.use('default')\n",
    "MoG_plot(pi_GD, mu_GD, cov_GD)\n",
    "MoG_plot(pi_EM[0], mu_EM[0], cov_EM[0])"
   ]
  },
  {
   "cell_type": "code",
   "execution_count": null,
   "metadata": {},
   "outputs": [],
   "source": [
    "K = 3\n",
    "lam = 0.1\n",
    "GD_KL_list = []\n",
    "for i in range(3):\n",
    "    try:\n",
    "        pi_GD, mu_GD, cov_GD, _, _ = import_result_GD(\"results_multi_adv/result-adv-gd-K={}-lam={}-id={}.npz\".format(K, lam, i+1))\n",
    "    except:\n",
    "        break\n",
    "    True_P = lambda x : MoG_prob(x, true_pi, true_mu)\n",
    "    GD_P = lambda x : MoG_prob(x, pi_GD, mu_GD, cov_GD)\n",
    "    KL = calc_KL(True_P, GD_P, np.linspace(-2, 8, 101))\n",
    "    print(KL)\n",
    "    GD_KL_list.append(KL)\n",
    "\n",
    "GD_KL_avg = sum(GD_KL_list) / len(GD_KL_list)\n",
    "GD_KL_avg"
   ]
  },
  {
   "cell_type": "code",
   "execution_count": null,
   "metadata": {},
   "outputs": [],
   "source": [
    "lam_settings = [1.0, 10.0]\n",
    "K_settings = [3, 5, 10]\n",
    "all_settings = [(K, lam) for lam in lam_settings for K in K_settings]\n",
    "\n",
    "for K, lam in all_settings:\n",
    "    print('K = {}, lam = {}'.format(K, lam))\n",
    "    GD_KL_list = []\n",
    "    for i in range(3):\n",
    "        try:\n",
    "            pi_GD, mu_GD, cov_GD, _, _ = import_result_GD(\"results/multi-adv-0/GD/result-adv-gd-K={}-lam={}-id={}.npz\".format(K, lam, i+1))\n",
    "        except:\n",
    "            break\n",
    "        True_P = lambda x : MoG_prob(x, true_pi, true_mu)\n",
    "        GD_P = lambda x : MoG_prob(x, pi_GD, mu_GD, cov_GD)\n",
    "        KL = calc_KL(True_P, GD_P, np.linspace(-2, 8, 101))\n",
    "        print(KL)\n",
    "        GD_KL_list.append(KL)\n",
    "    if len(GD_KL_list) > 0:\n",
    "        GD_KL_avg = sum(GD_KL_list) / len(GD_KL_list)\n",
    "        print('GD_KL_avg = {}'.format(GD_KL_avg))\n",
    "\n",
    "    EM_KL_list = []\n",
    "    pi_EM, mu_EM, cov_EM, _, _, _, _ = import_result_penalizedEM(\"results/multi-adv-0/EM/Penalized-K={}-lam={}-N=100.p\".format(K, lam))\n",
    "    for i in range(len(pi_EM)):\n",
    "        True_P = lambda x : MoG_prob(x, true_pi, true_mu)\n",
    "        EM_P = lambda x : MoG_prob(x, pi_EM[i], mu_EM[i], cov_EM[i])\n",
    "        KL = calc_KL(True_P, EM_P, np.linspace(-2, 8, 101))\n",
    "        print(KL)\n",
    "        EM_KL_list.append(KL)\n",
    "\n",
    "    EM_KL_avg = sum(EM_KL_list) / len(EM_KL_list)\n",
    "    print('PenEM_KL_avg = {}'.format(EM_KL_avg))\n",
    "    \n",
    "    EM_KL_list = []\n",
    "    pi_EM, mu_EM, cov_EM, _, _, _, _ = import_result_EM(\"results/multi-adv-0/EM/EM-K={}-lam={}-N=100.p\".format(K, lam))\n",
    "    for i in range(len(pi_EM)):\n",
    "        True_P = lambda x : MoG_prob(x, true_pi, true_mu)\n",
    "        EM_P = lambda x : MoG_prob(x, pi_EM[i], mu_EM[i], cov_EM[i])\n",
    "        KL = calc_KL(True_P, EM_P, np.linspace(-2, 8, 101))\n",
    "        print(KL)\n",
    "        EM_KL_list.append(KL)\n",
    "\n",
    "    EM_KL_avg = sum(EM_KL_list) / len(EM_KL_list)\n",
    "    print('EM_KL_avg = {}'.format(EM_KL_avg))"
   ]
  },
  {
   "cell_type": "code",
   "execution_count": null,
   "metadata": {},
   "outputs": [],
   "source": []
  }
 ],
 "metadata": {
  "kernelspec": {
   "display_name": "Python 3",
   "language": "python",
   "name": "python3"
  },
  "language_info": {
   "codemirror_mode": {
    "name": "ipython",
    "version": 3
   },
   "file_extension": ".py",
   "mimetype": "text/x-python",
   "name": "python",
   "nbconvert_exporter": "python",
   "pygments_lexer": "ipython3",
   "version": "3.5.0"
  }
 },
 "nbformat": 4,
 "nbformat_minor": 2
}
