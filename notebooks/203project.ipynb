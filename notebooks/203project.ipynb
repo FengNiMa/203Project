{
 "cells": [
  {
   "cell_type": "code",
   "execution_count": 2,
   "metadata": {},
   "outputs": [],
   "source": [
    "import numpy as np"
   ]
  },
  {
   "cell_type": "code",
   "execution_count": 208,
   "metadata": {},
   "outputs": [],
   "source": [
    "def normal(x, mu, Sigma):\n",
    "    d = Sigma.shape[0]\n",
    "    if d != len(mu):\n",
    "        raise ValueError\n",
    "    return np.exp(-(x-mu).T.dot(np.linalg.inv(Sigma)).dot(x-mu)/ 2) / np.sqrt((2*np.pi)**d * np.linalg.det(Sigma))\n",
    "\n",
    "def v(a,b):\n",
    "    u = np.array([a-b])\n",
    "    return u.T.dot(u)\n",
    "\n",
    "def loss(Y, z, mu, Sigma, alpha=0.5, lamb=1.0):\n",
    "    return -sum([normal(y, mu, Sigma) for y in Y]) + lamb * alpha * normal(z, mu, Sigma)\n",
    "\n",
    "def MLE(Y):\n",
    "    mu = np.mean(Y)\n",
    "    Sigma = np.var(Y)\n",
    "    if type(Sigma) in (np.float32, np.float64):\n",
    "        return (np.array([mu]), np.array([[Sigma]]))\n",
    "    else:\n",
    "        return (np.array([mu]), np.array([Sigma]))\n",
    "    \n",
    "def penMLE(Y, z, alpha=0.5, lamb=1.0):\n",
    "    mu, Sigma = MLE(Y)\n",
    "    for n_steps in range(10):\n",
    "        gamma = lamb * alpha * normal(z, mu, Sigma)\n",
    "        Sigma_new = (np.sum([v(y,mu) for y in Y]) - gamma*v(z,mu)) / (len(Y)-gamma)\n",
    "        mu_new = (np.sum(Y)-gamma*z) / (len(Y)-gamma)\n",
    "        if np.linalg.norm(mu_new-mu) < 1e-16 and np.linalg.norm(Sigma_new-Sigma, ord='fro') < 1e-16:\n",
    "            break\n",
    "        mu, Sigma = mu_new, Sigma_new\n",
    "    print('steps', n_steps)\n",
    "    return (mu_new, Sigma_new)\n",
    "\n",
    "def check(Y, z, mu, Sigma, alpha=0.5, lamb=1.0, times=10):\n",
    "    l = loss(Y, z, mu, Sigma, alpha=alpha, lamb=lamb)\n",
    "    for _ in range(times):\n",
    "        mu_shift = (np.random.rand(len(mu))-0.5)*0.00001\n",
    "        Sigma_shift = (np.random.rand(len(mu), len(mu))-0.5)*0.00001\n",
    "        l_rand = loss(Y, z, mu+mu_shift, Sigma+Sigma_shift, alpha=alpha, lamb=lamb)\n",
    "        if l_rand < l-0.0001:\n",
    "            print(mu+mu_shift, Sigma+Sigma_shift, l_rand)\n",
    "            return False\n",
    "    return True"
   ]
  },
  {
   "cell_type": "code",
   "execution_count": 187,
   "metadata": {},
   "outputs": [
    {
     "data": {
      "text/plain": [
       "[array([0.01934399]),\n",
       " array([-0.52152182]),\n",
       " array([0.43895457]),\n",
       " array([-0.41209333]),\n",
       " array([-0.8876564]),\n",
       " array([0.46572342]),\n",
       " array([1.22547919]),\n",
       " array([0.69125323]),\n",
       " array([-1.37494949]),\n",
       " array([-1.37951803]),\n",
       " array([-1.99603114]),\n",
       " array([0.07860545]),\n",
       " array([-0.03780545]),\n",
       " array([0.26214566]),\n",
       " array([0.18003701]),\n",
       " array([-0.24868734]),\n",
       " array([-0.36876575]),\n",
       " array([-0.97047288]),\n",
       " array([0.22908998]),\n",
       " array([1.48644767])]"
      ]
     },
     "execution_count": 187,
     "metadata": {},
     "output_type": "execute_result"
    }
   ],
   "source": [
    "Y = [np.array([y]) for y in np.random.normal(size=20)]\n",
    "Y"
   ]
  },
  {
   "cell_type": "code",
   "execution_count": 209,
   "metadata": {},
   "outputs": [
    {
     "name": "stdout",
     "output_type": "stream",
     "text": [
      "steps 9\n",
      "[-0.15602107] [[0.72102852]]\n",
      "[-0.15701992] [[0.71920803]]\n"
     ]
    }
   ],
   "source": [
    "z = np.array([2.0])\n",
    "alpha = 0.5\n",
    "lamb = 1.0\n",
    "mu_MLE, Sigma_MLE = MLE(Y)\n",
    "mu_penMLE, Sigma_penMLE = penMLE(Y, z, alpha=alpha, lamb=lamb)\n",
    "print(mu_MLE, Sigma_MLE)\n",
    "print(mu_penMLE, Sigma_penMLE)"
   ]
  },
  {
   "cell_type": "code",
   "execution_count": 210,
   "metadata": {},
   "outputs": [
    {
     "name": "stdout",
     "output_type": "stream",
     "text": [
      "-6.651718775974659\n",
      "-6.655803168194078\n",
      "True\n"
     ]
    }
   ],
   "source": [
    "print(loss(Y, z, mu_MLE, Sigma_MLE, alpha=alpha, lamb=lamb))\n",
    "print(loss(Y, z, mu_penMLE, Sigma_penMLE, alpha=alpha, lamb=lamb))\n",
    "print(check(Y, z, mu_penMLE, Sigma_penMLE, alpha=alpha, lamb=lamb, times=40))"
   ]
  },
  {
   "cell_type": "code",
   "execution_count": null,
   "metadata": {},
   "outputs": [],
   "source": []
  },
  {
   "cell_type": "code",
   "execution_count": null,
   "metadata": {},
   "outputs": [],
   "source": []
  }
 ],
 "metadata": {
  "kernelspec": {
   "display_name": "Python 3",
   "language": "python",
   "name": "python3"
  },
  "language_info": {
   "codemirror_mode": {
    "name": "ipython",
    "version": 3
   },
   "file_extension": ".py",
   "mimetype": "text/x-python",
   "name": "python",
   "nbconvert_exporter": "python",
   "pygments_lexer": "ipython3",
   "version": "3.6.6"
  }
 },
 "nbformat": 4,
 "nbformat_minor": 2
}
