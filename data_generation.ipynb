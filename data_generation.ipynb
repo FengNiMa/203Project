{
 "cells": [
  {
   "cell_type": "code",
   "execution_count": 1,
   "metadata": {},
   "outputs": [],
   "source": [
    "import numpy as np"
   ]
  },
  {
   "cell_type": "code",
   "execution_count": 10,
   "metadata": {},
   "outputs": [],
   "source": [
    "def MoG_generation(K=5, data_dim=2, data_range=5.0, data_n=1000):\n",
    "    pi_logits = np.random.sample(K)\n",
    "    pi = pi_logits / np.sum(pi_logits)\n",
    "\n",
    "    mu_list = []\n",
    "    for i in range(K):\n",
    "        mu_i = np.random.sample(data_dim) * data_range\n",
    "        mu_list.append(mu_i)\n",
    "    mu = np.array(mu_list)\n",
    "    \n",
    "    # Now, covariance = I\n",
    "\n",
    "    samples_list = []\n",
    "    for i in range(data_n):\n",
    "        normal_sample = np.random.randn(data_dim)\n",
    "        cls = np.random.randint(K)\n",
    "        sample = normal_sample + mu[cls]\n",
    "        samples_list.append(sample)\n",
    "    samples = np.array(samples_list)\n",
    "    \n",
    "    adv_sample = np.ones(data_dim, dtype=np.float) * (-1)\n",
    "    \n",
    "    return pi, mu, samples, adv_sample"
   ]
  },
  {
   "cell_type": "code",
   "execution_count": 11,
   "metadata": {},
   "outputs": [],
   "source": [
    "pi, mu, samples, adv_sample = MoG_generation()"
   ]
  },
  {
   "cell_type": "code",
   "execution_count": 12,
   "metadata": {},
   "outputs": [
    {
     "data": {
      "text/plain": [
       "array([0.23705428, 0.06574439, 0.39978303, 0.07123911, 0.22617919])"
      ]
     },
     "execution_count": 12,
     "metadata": {},
     "output_type": "execute_result"
    }
   ],
   "source": [
    "pi"
   ]
  },
  {
   "cell_type": "code",
   "execution_count": 13,
   "metadata": {},
   "outputs": [
    {
     "data": {
      "text/plain": [
       "array([[2.02889543, 0.58387321],\n",
       "       [1.48504397, 3.96130589],\n",
       "       [1.26997612, 1.46258317],\n",
       "       [3.4355634 , 1.58225174],\n",
       "       [1.47788008, 3.48312234]])"
      ]
     },
     "execution_count": 13,
     "metadata": {},
     "output_type": "execute_result"
    }
   ],
   "source": [
    "mu"
   ]
  },
  {
   "cell_type": "code",
   "execution_count": 14,
   "metadata": {},
   "outputs": [
    {
     "data": {
      "text/plain": [
       "array([[ 4.17993725,  1.24175583],\n",
       "       [ 2.68098744,  0.32334823],\n",
       "       [ 1.41416657,  0.3940763 ],\n",
       "       [ 3.04086445,  4.25610681],\n",
       "       [ 1.87104121,  4.03256269],\n",
       "       [ 5.0214534 ,  1.57025624],\n",
       "       [ 3.1324006 ,  1.80930315],\n",
       "       [ 3.48725692,  2.19854219],\n",
       "       [ 2.67629033, -0.01613154],\n",
       "       [ 2.5919368 ,  2.00105177],\n",
       "       [-0.10403355,  0.37719824],\n",
       "       [ 3.65484623,  1.83349119],\n",
       "       [ 0.27127926,  2.74596415],\n",
       "       [ 1.16614525,  1.58661359],\n",
       "       [ 1.47989679,  0.89424985],\n",
       "       [ 0.9680544 ,  1.00286455],\n",
       "       [ 4.67228469,  2.75282497],\n",
       "       [ 0.3507703 ,  3.45548201],\n",
       "       [ 2.11184957,  2.31217297],\n",
       "       [ 2.10118491,  4.49285233]])"
      ]
     },
     "execution_count": 14,
     "metadata": {},
     "output_type": "execute_result"
    }
   ],
   "source": [
    "samples[::50]"
   ]
  },
  {
   "cell_type": "code",
   "execution_count": 15,
   "metadata": {},
   "outputs": [
    {
     "data": {
      "text/plain": [
       "array([-1., -1.])"
      ]
     },
     "execution_count": 15,
     "metadata": {},
     "output_type": "execute_result"
    }
   ],
   "source": [
    "adv_sample"
   ]
  },
  {
   "cell_type": "code",
   "execution_count": null,
   "metadata": {},
   "outputs": [],
   "source": [
    "data_fname = 'data.npz'\n",
    "np.savez(data_fname, pi=pi, mu=mu, samples=samples, adv_sample=adv_sample)"
   ]
  }
 ],
 "metadata": {
  "kernelspec": {
   "display_name": "Python 3",
   "language": "python",
   "name": "python3"
  },
  "language_info": {
   "codemirror_mode": {
    "name": "ipython",
    "version": 3
   },
   "file_extension": ".py",
   "mimetype": "text/x-python",
   "name": "python",
   "nbconvert_exporter": "python",
   "pygments_lexer": "ipython3",
   "version": "3.5.0"
  }
 },
 "nbformat": 4,
 "nbformat_minor": 2
}
