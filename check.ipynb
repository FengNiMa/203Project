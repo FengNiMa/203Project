{
 "cells": [
  {
   "cell_type": "code",
   "execution_count": 1,
   "metadata": {},
   "outputs": [],
   "source": [
    "import numpy as np\n",
    "from collections import OrderedDict"
   ]
  },
  {
   "cell_type": "code",
   "execution_count": 2,
   "metadata": {},
   "outputs": [],
   "source": [
    "res = np.load('results/result-adv-gd-K=10-lam=1.0-id=1.npz')"
   ]
  },
  {
   "cell_type": "code",
   "execution_count": 3,
   "metadata": {},
   "outputs": [
    {
     "data": {
      "text/plain": [
       "{'cov': array([[[1.5283592 , 0.27773517],\n",
       "         [0.27773517, 1.7662952 ]],\n",
       " \n",
       "        [[1.1481004 , 0.05842932],\n",
       "         [0.05842932, 1.0378993 ]],\n",
       " \n",
       "        [[1.0174078 , 0.00508815],\n",
       "         [0.00508815, 1.0219809 ]],\n",
       " \n",
       "        [[1.0211074 , 0.02130733],\n",
       "         [0.02130733, 1.0220209 ]],\n",
       " \n",
       "        [[1.2485842 , 0.09475826],\n",
       "         [0.09475826, 1.1174275 ]],\n",
       " \n",
       "        [[1.325971  , 0.1464399 ],\n",
       "         [0.1464399 , 1.052976  ]],\n",
       " \n",
       "        [[1.0088342 , 0.00612375],\n",
       "         [0.00612375, 0.9991232 ]],\n",
       " \n",
       "        [[1.0005306 , 0.00833677],\n",
       "         [0.00833677, 1.0000486 ]],\n",
       " \n",
       "        [[1.2433032 , 0.09688784],\n",
       "         [0.09688784, 1.0407931 ]],\n",
       " \n",
       "        [[1.0544682 , 0.02929709],\n",
       "         [0.02929709, 1.0256957 ]]], dtype=float32),\n",
       " 'mu': array([[ 0.80568206,  2.060544  ],\n",
       "        [ 0.6499249 ,  0.41506395],\n",
       "        [-0.49086344, -0.739782  ],\n",
       "        [ 0.41077384, -0.86164236],\n",
       "        [ 0.6979507 ,  1.1638215 ],\n",
       "        [ 1.1501766 , -0.247135  ],\n",
       "        [-0.6374971 , -2.1706376 ],\n",
       "        [ 0.02823159, -2.440163  ],\n",
       "        [ 0.9377082 ,  0.16421123],\n",
       "        [ 0.46434772, -0.26188877]], dtype=float32),\n",
       " 'pi': array([0.12641416, 0.09372091, 0.09443219, 0.09982789, 0.09365682,\n",
       "        0.10917816, 0.0973459 , 0.09327611, 0.09787528, 0.09427262],\n",
       "       dtype=float32),\n",
       " 'test_d_losses': array([5.59161615, 5.42865944, 5.3115592 , 5.2215786 , 5.1490469 ,\n",
       "        5.08846617, 5.03647232, 4.9908824 , 4.95021772, 4.91343546]),\n",
       " 'test_p_losses': array([5.55139828, 5.38838911, 5.27126932, 5.1812973 , 5.10879707,\n",
       "        5.04826689, 4.9963398 , 4.95083141, 4.91026068, 4.87358332]),\n",
       " 'train_d_losses': array([5.85541534, 5.70153856, 5.58554411, 5.49289179, 5.41587353,\n",
       "        5.34998846, 5.29240179, 5.24122095, 5.19512415, 5.15315676]),\n",
       " 'train_p_losses': array([5.81519747, 5.66126823, 5.54525471, 5.45261049, 5.3756237 ,\n",
       "        5.30978918, 5.25226974, 5.20116997, 5.15516758, 5.11330462])}"
      ]
     },
     "execution_count": 3,
     "metadata": {},
     "output_type": "execute_result"
    }
   ],
   "source": [
    "dict(res)"
   ]
  },
  {
   "cell_type": "code",
   "execution_count": 4,
   "metadata": {},
   "outputs": [
    {
     "name": "stdout",
     "output_type": "stream",
     "text": [
      "<numpy.lib.npyio.NpzFile object at 0x11b26b7f0>\n"
     ]
    }
   ],
   "source": [
    "print(res)"
   ]
  },
  {
   "cell_type": "code",
   "execution_count": 7,
   "metadata": {},
   "outputs": [
    {
     "data": {
      "text/plain": [
       "OrderedDict([('b', 2), ('a', 1)])"
      ]
     },
     "execution_count": 7,
     "metadata": {},
     "output_type": "execute_result"
    }
   ],
   "source": [
    "d = OrderedDict()\n",
    "d['b'] = 2\n",
    "d['a'] = 1\n",
    "d"
   ]
  },
  {
   "cell_type": "code",
   "execution_count": 8,
   "metadata": {},
   "outputs": [
    {
     "data": {
      "text/plain": [
       "{'a': 1, 'b': 2}"
      ]
     },
     "execution_count": 8,
     "metadata": {},
     "output_type": "execute_result"
    }
   ],
   "source": [
    "dict(d)"
   ]
  },
  {
   "cell_type": "code",
   "execution_count": null,
   "metadata": {},
   "outputs": [],
   "source": []
  }
 ],
 "metadata": {
  "kernelspec": {
   "display_name": "Python 3",
   "language": "python",
   "name": "python3"
  },
  "language_info": {
   "codemirror_mode": {
    "name": "ipython",
    "version": 3
   },
   "file_extension": ".py",
   "mimetype": "text/x-python",
   "name": "python",
   "nbconvert_exporter": "python",
   "pygments_lexer": "ipython3",
   "version": "3.5.0"
  }
 },
 "nbformat": 4,
 "nbformat_minor": 2
}
