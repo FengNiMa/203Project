{
 "cells": [
  {
   "cell_type": "code",
   "execution_count": 1,
   "metadata": {},
   "outputs": [],
   "source": [
    "import numpy as np"
   ]
  },
  {
   "cell_type": "code",
   "execution_count": 4,
   "metadata": {},
   "outputs": [],
   "source": [
    "def MoG_generation(K=5, data_dim=2, data_range=5.0, data_n=1000):\n",
    "    pi_logits = np.random.sample(K)\n",
    "    pi = pi_logits / np.sum(pi_logits)\n",
    "\n",
    "    mu_list = []\n",
    "    for i in range(K):\n",
    "        mu_i = np.random.sample(data_dim) * data_range\n",
    "        mu_list.append(mu_i)\n",
    "    mu = np.array(mu_list)\n",
    "    \n",
    "    # Now, covariance = I\n",
    "\n",
    "    samples_list = []\n",
    "    for i in range(data_n):\n",
    "        normal_sample = np.random.randn(data_dim)\n",
    "        cls = np.random.randint(K)\n",
    "        sample = normal_sample + mu[cls]\n",
    "        samples_list.append(sample)\n",
    "    samples = np.array(samples_list)\n",
    "    \n",
    "    adv_l = [[]]\n",
    "    for i in range(data_dim):\n",
    "        _l = []\n",
    "        for v in adv_l:\n",
    "            _l.append(v + [-1.0])\n",
    "            _l.append(v + [data_range + 1.0])\n",
    "        adv_l = _l\n",
    "    \n",
    "    adv_sample = np.array(adv_l)\n",
    "    \n",
    "    return pi, mu, samples, adv_sample"
   ]
  },
  {
   "cell_type": "code",
   "execution_count": 5,
   "metadata": {},
   "outputs": [],
   "source": [
    "pi, mu, samples, adv_sample = MoG_generation()"
   ]
  },
  {
   "cell_type": "code",
   "execution_count": 6,
   "metadata": {},
   "outputs": [
    {
     "data": {
      "text/plain": [
       "array([0.14526003, 0.27931019, 0.09112876, 0.24044514, 0.24385588])"
      ]
     },
     "execution_count": 6,
     "metadata": {},
     "output_type": "execute_result"
    }
   ],
   "source": [
    "pi"
   ]
  },
  {
   "cell_type": "code",
   "execution_count": 7,
   "metadata": {},
   "outputs": [
    {
     "data": {
      "text/plain": [
       "array([[0.56162827, 4.06380063],\n",
       "       [3.28073912, 4.35204736],\n",
       "       [2.60321801, 1.87409632],\n",
       "       [4.89483546, 0.49599283],\n",
       "       [4.79015886, 2.42480232]])"
      ]
     },
     "execution_count": 7,
     "metadata": {},
     "output_type": "execute_result"
    }
   ],
   "source": [
    "mu"
   ]
  },
  {
   "cell_type": "code",
   "execution_count": 8,
   "metadata": {},
   "outputs": [
    {
     "data": {
      "text/plain": [
       "array([[ 1.35825423,  1.83219772],\n",
       "       [ 2.64319305,  5.224342  ],\n",
       "       [ 3.95274471,  2.33048396],\n",
       "       [ 4.16059167,  4.83385209],\n",
       "       [ 2.60659948,  3.98019731],\n",
       "       [ 4.69456321,  4.273666  ],\n",
       "       [ 4.61808618,  3.2075684 ],\n",
       "       [ 2.6820898 ,  0.32647153],\n",
       "       [ 5.88144678,  1.69764036],\n",
       "       [ 3.44042735,  1.80054985],\n",
       "       [ 5.98082642,  2.4237591 ],\n",
       "       [ 4.98240089,  3.92803802],\n",
       "       [ 2.37520765,  4.38722706],\n",
       "       [ 3.08427474,  4.29565068],\n",
       "       [ 3.91107336,  0.31629604],\n",
       "       [-0.72826058,  4.80255559],\n",
       "       [ 2.7906875 ,  6.52147993],\n",
       "       [ 1.62396685,  3.24004962],\n",
       "       [ 4.53024081, -0.8168355 ],\n",
       "       [ 0.26723774,  2.81160355]])"
      ]
     },
     "execution_count": 8,
     "metadata": {},
     "output_type": "execute_result"
    }
   ],
   "source": [
    "samples[::50]"
   ]
  },
  {
   "cell_type": "code",
   "execution_count": 9,
   "metadata": {},
   "outputs": [
    {
     "data": {
      "text/plain": [
       "array([[-1., -1.],\n",
       "       [-1.,  6.],\n",
       "       [ 6., -1.],\n",
       "       [ 6.,  6.]])"
      ]
     },
     "execution_count": 9,
     "metadata": {},
     "output_type": "execute_result"
    }
   ],
   "source": [
    "adv_sample"
   ]
  },
  {
   "cell_type": "code",
   "execution_count": null,
   "metadata": {},
   "outputs": [],
   "source": [
    "data_fname = 'data_multi_adv.npz'\n",
    "np.savez(data_fname, pi=pi, mu=mu, samples=samples, adv_sample=adv_sample)"
   ]
  }
 ],
 "metadata": {
  "kernelspec": {
   "display_name": "Python 3",
   "language": "python",
   "name": "python3"
  },
  "language_info": {
   "codemirror_mode": {
    "name": "ipython",
    "version": 3
   },
   "file_extension": ".py",
   "mimetype": "text/x-python",
   "name": "python",
   "nbconvert_exporter": "python",
   "pygments_lexer": "ipython3",
   "version": "3.5.0"
  }
 },
 "nbformat": 4,
 "nbformat_minor": 2
}
